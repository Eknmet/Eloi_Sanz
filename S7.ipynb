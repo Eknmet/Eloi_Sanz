{
 "cells": [
  {
   "cell_type": "markdown",
   "metadata": {},
   "source": [
    "Calcular el index de massa corporal"
   ]
  },
  {
   "cell_type": "markdown",
   "metadata": {},
   "source": [
    "Por otro lado, al ser inpreciso i personas con alto porcentage de massa muscular son consideradas como potencialmente propensos a enfermedades cardiovasculares. se usa otro paramentro que observa la acumulacion de grasa en el abdomen con el perimetro de la cintura i barriga.\n",
    "\n",
    "siendo este mas fidedigno para su proposito.\n",
    "\n",
    "perimetro de cintura / perimetro de cadera\n",
    "hombres superior a 0,94 \n",
    "Mujeres superior a 0,84 \n",
    "riesgo elevado de patologias cronicas."
   ]
  },
  {
   "cell_type": "markdown",
   "metadata": {},
   "source": [
    "### Nivell 1 Exercici \n",
    "#### IMC\n"
   ]
  },
  {
   "cell_type": "code",
   "execution_count": 31,
   "metadata": {},
   "outputs": [],
   "source": [
    "def imc():\n",
    "    print(\"Calculadora d'index de masa corporal\")\n",
    "\n",
    "    kg = float(input(print(\"Introduiexi el pes en kg. \")))\n",
    "    \n",
    "    altura = float(input(print(\"Introdueixi l'altura en metres. \")))\n",
    "    if kg >= 0 and altura >=0:\n",
    "    # el valor a de ser positiu.\n",
    "    \n",
    "        print(kg)\n",
    "        print(altura)\n",
    "        resultat = kg/(altura**2)\n",
    "        #print(resultat)\n",
    "        # Categoritzem els resultats\n",
    "        resultat = kg/altura**2\n",
    "        print(f\"el valor de IMC es:{resultat}\")\n",
    "            # categoria = \n",
    "        if resultat < 18.5:\n",
    "            print(\"Sota del el pes ideal.\")\n",
    "        elif resultat >= 30:\n",
    "            print(\"Obesitat\")   \n",
    "        elif resultat >= 18.5 and resultat <= 24.9:\n",
    "            print(\"Pes normal.\")\n",
    "        elif resultat >= 25 and resultat<= 29.9:\n",
    "            print(\"Sobrepes\")\n",
    "    else:\n",
    "        print(\"introdueix dades positives\")\n"
   ]
  },
  {
   "cell_type": "markdown",
   "metadata": {},
   "source": [
    "amononar la resposta del codi."
   ]
  },
  {
   "cell_type": "code",
   "execution_count": 33,
   "metadata": {},
   "outputs": [
    {
     "name": "stdout",
     "output_type": "stream",
     "text": [
      "Calculadora d'index de masa corporal\n",
      "Introduiexi el pes en kg. \n",
      "Introdueixi l'altura en metres. \n",
      "80.0\n",
      "1.73\n",
      "el valor de IMC es:26.729927495071667\n",
      "Sobrepes\n"
     ]
    }
   ],
   "source": [
    "imc()\n",
    "\n"
   ]
  },
  {
   "cell_type": "code",
   "execution_count": 34,
   "metadata": {},
   "outputs": [
    {
     "name": "stdout",
     "output_type": "stream",
     "text": [
      "Calculadora d'index de masa corporal\n",
      "Introduiexi el pes en kg. \n",
      "Introdueixi l'altura en metres. \n",
      "80.0\n",
      "1.73\n",
      "26.729927495071667\n"
     ]
    }
   ],
   "source": [
    "\n",
    "# Calculadora de index de massa corporal\n",
    "print(\"Calculadora d'index de masa corporal\")\n",
    "\n",
    "kg = float(input(print(\"Introduiexi el pes en kg. \")))\n",
    "\n",
    "altura = float(input(print(\"Introdueixi l'altura en metres. \")))\n",
    "print(kg)\n",
    "print(altura)\n",
    "resultat = kg/(altura**2)\n",
    "print(resultat)\n",
    "\n"
   ]
  },
  {
   "cell_type": "markdown",
   "metadata": {},
   "source": [
    "Shaquille O'Neal\n",
    "150 kg\n",
    "2.16 metres\n",
    "Obeso"
   ]
  },
  {
   "cell_type": "code",
   "execution_count": 35,
   "metadata": {},
   "outputs": [
    {
     "name": "stdout",
     "output_type": "stream",
     "text": [
      "26.729927495071667\n",
      "Sobrepes\n"
     ]
    }
   ],
   "source": [
    "# Categoritzem els resultats\n",
    "resultat = kg/altura**2\n",
    "print(resultat)\n",
    "\n",
    "if resultat < 18.5:\n",
    "    print(\"Sota del el pes ideal.\")\n",
    "elif resultat >= 30:\n",
    "    print(\"Obesitat\")   \n",
    "elif resultat >= 18.5 and resultat <= 24.9:\n",
    "    print(\"Pes normal.\")\n",
    "elif resultat >= 25 and resultat<= 29.9:\n",
    "    print(\"Sobrepes\")\n"
   ]
  },
  {
   "cell_type": "markdown",
   "metadata": {},
   "source": [
    "## Exercici 2\n",
    "\n",
    "### Convertidor de temperatures"
   ]
  },
  {
   "cell_type": "code",
   "execution_count": null,
   "metadata": {},
   "outputs": [],
   "source": [
    "# Kelvin o K suma 273 a celcius\n",
    "#Réaumur o Ré celcius *5/4\n",
    "# Fharenheit o F celcius * 9/5 +32"
   ]
  },
  {
   "cell_type": "code",
   "execution_count": 48,
   "metadata": {},
   "outputs": [],
   "source": [
    "def conversorT():\n",
    "\n",
    "    try:\n",
    "        temperatura = float(input(print(\"Introdueix una temperatura que vulguis transformar des de ºCelcius: \")))\n",
    "        kelvin = temperatura + 237\n",
    "        print(\"La temperatura amb graus Kelvin es:\",kelvin,\"º K\")\n",
    "        Réaumur = temperatura *4/5\n",
    "        print(\"La temperatura amb graus Réaumur es :\",Réaumur, \"º Ré\")\n",
    "        fharenheit = temperatura*9/5 +32\n",
    "        print(\"La temperatura amb graus Fharenheit es :\", fharenheit, \"º F\")\n",
    "    except ValueError:\n",
    "        print(\"Introduix una valor de temperatura\")"
   ]
  },
  {
   "cell_type": "code",
   "execution_count": null,
   "metadata": {},
   "outputs": [
    {
     "name": "stdout",
     "output_type": "stream",
     "text": [
      "\n",
      "Introdueix una temperatura que vulguis transformar des de ºCelcius: \n"
     ]
    },
    {
     "ename": "ValueError",
     "evalue": "could not convert string to float: ''",
     "output_type": "error",
     "traceback": [
      "\u001b[1;31m---------------------------------------------------------------------------\u001b[0m",
      "\u001b[1;31mValueError\u001b[0m                                Traceback (most recent call last)",
      "Cell \u001b[1;32mIn[47], line 3\u001b[0m\n\u001b[0;32m      1\u001b[0m \u001b[38;5;28mprint\u001b[39m(\u001b[38;5;124m\"\u001b[39m\u001b[38;5;124m\"\u001b[39m)\n\u001b[1;32m----> 3\u001b[0m temperatura \u001b[38;5;241m=\u001b[39m \u001b[38;5;28;43mfloat\u001b[39;49m\u001b[43m(\u001b[49m\u001b[38;5;28;43minput\u001b[39;49m\u001b[43m(\u001b[49m\u001b[38;5;28;43mprint\u001b[39;49m\u001b[43m(\u001b[49m\u001b[38;5;124;43m\"\u001b[39;49m\u001b[38;5;124;43mIntrodueix una temperatura que vulguis transformar des de ºCelcius: \u001b[39;49m\u001b[38;5;124;43m\"\u001b[39;49m\u001b[43m)\u001b[49m\u001b[43m)\u001b[49m\u001b[43m)\u001b[49m\n\u001b[0;32m      5\u001b[0m kelvin \u001b[38;5;241m=\u001b[39m temperatura \u001b[38;5;241m+\u001b[39m \u001b[38;5;241m237\u001b[39m\n\u001b[0;32m      6\u001b[0m \u001b[38;5;28mprint\u001b[39m(\u001b[38;5;124m\"\u001b[39m\u001b[38;5;124mLa temperatura amb graus Kelvin es:\u001b[39m\u001b[38;5;124m\"\u001b[39m,kelvin,\u001b[38;5;124m\"\u001b[39m\u001b[38;5;124mº K\u001b[39m\u001b[38;5;124m\"\u001b[39m)\n",
      "\u001b[1;31mValueError\u001b[0m: could not convert string to float: ''"
     ]
    }
   ],
   "source": [
    "temperatura = float(input(print(\"Introdueix una temperatura que vulguis transformar des de ºCelcius: \")))\n",
    "\n",
    "kelvin = temperatura + 237\n",
    "print(\"La temperatura amb graus Kelvin es:\",kelvin,\"º K\")\n",
    "Réaumur = temperatura *4/5\n",
    "print(\"La temperatura amb graus Réaumur es :\",Réaumur, \"º Ré\")\n",
    "fharenheit = temperatura*9/5 +32\n",
    "print(\"La temperatura amb graus Fharenheit es :\", fharenheit, \"º F\")\n"
   ]
  },
  {
   "cell_type": "code",
   "execution_count": 50,
   "metadata": {},
   "outputs": [
    {
     "name": "stdout",
     "output_type": "stream",
     "text": [
      "Introdueix una temperatura que vulguis transformar des de ºCelcius: \n",
      "La temperatura amb graus Kelvin es: 197.0 º K\n",
      "La temperatura amb graus Réaumur es : -32.0 º Ré\n",
      "La temperatura amb graus Fharenheit es : -40.0 º F\n"
     ]
    }
   ],
   "source": [
    "conversorT()\n"
   ]
  },
  {
   "cell_type": "markdown",
   "metadata": {},
   "source": [
    "Contador de paraules, despres dintroduir un text\n",
    "\n",
    "Separar el tex per paraules\n",
    "Contar la Quantitat de vegades que surt"
   ]
  },
  {
   "cell_type": "markdown",
   "metadata": {},
   "source": [
    "## Contado de paraules amb funcio"
   ]
  },
  {
   "cell_type": "markdown",
   "metadata": {},
   "source": [
    "Separo pels dos exercicis."
   ]
  },
  {
   "cell_type": "code",
   "execution_count": null,
   "metadata": {},
   "outputs": [],
   "source": [
    "def contador_frases(frase):\n",
    "    \n",
    "    paraules = frase.split()\n",
    "    Diccionari ={}\n",
    "\n",
    "    longi = len(paraules)\n",
    "    print(f\"Cantitat de paraules: {longi}\")\n",
    "    \n",
    "    for x in paraules:\n",
    "        \n",
    "        if x in Diccionari:\n",
    "            Diccionari[x] += 1\n",
    "        elif x not in Diccionari:\n",
    "            Diccionari[x] = 1\n",
    "\n",
    "    return Diccionari\n",
    "\n",
    "#frase = input(print(\"Introdueix un text, per contar les paraules:\"))\n",
    "#frase = \"hola hola prova prova de de de separa i contar i separa les les de les paraules\"\n",
    "\n",
    "#contador_frases(frase)"
   ]
  },
  {
   "cell_type": "code",
   "execution_count": 67,
   "metadata": {},
   "outputs": [
    {
     "name": "stdout",
     "output_type": "stream",
     "text": [
      "Cantitat de paraules: 17\n"
     ]
    },
    {
     "data": {
      "text/plain": [
       "{'hola': 2,\n",
       " 'prova': 2,\n",
       " 'de': 4,\n",
       " 'separa': 2,\n",
       " 'i': 2,\n",
       " 'contar': 1,\n",
       " 'les': 3,\n",
       " 'paraules': 1}"
      ]
     },
     "execution_count": 67,
     "metadata": {},
     "output_type": "execute_result"
    }
   ],
   "source": [
    "contador_frases(\"hola hola prova prova de de de separa i contar i separa les les de les paraules\")"
   ]
  },
  {
   "cell_type": "markdown",
   "metadata": {},
   "source": [
    "## Contador de paraules simple"
   ]
  },
  {
   "cell_type": "code",
   "execution_count": null,
   "metadata": {},
   "outputs": [
    {
     "name": "stdout",
     "output_type": "stream",
     "text": [
      "Introdueix un text, per contar les paraules:\n",
      "17\n",
      "{'hola': 2, 'prova': 2, 'de': 4, 'separa': 2, 'i': 2, 'contar': 1, 'les': 3, 'paraules': 1}\n"
     ]
    }
   ],
   "source": [
    "frase = input(print(\"Introdueix un text, per contar les paraules:\"))\n",
    "\n",
    "paraules = frase.split()\n",
    "# Obtenim una llista de paraules separades.\n",
    "\n",
    "# hola hola prova prova de de de separa i contar i separa les les de les paraules\n",
    "\n",
    "Diccionari ={}\n",
    "\n",
    "print(len(paraules))\n",
    "\n",
    "\n",
    "for x in paraules:\n",
    "    \n",
    "    if x in Diccionari:\n",
    "        Diccionari[x] += 1\n",
    "    elif x not in Diccionari:\n",
    "        Diccionari[x] = 1\n",
    "\n",
    "    #    contador +=1 \n",
    "    \n",
    "    # Si la paraula no existeix, agregala com a clau i inicialitzala com a 1\n",
    "    # unestigui creada sumali 1\n",
    "print(Diccionari)\n",
    "#print(f\"Total paraules: {contador}\")"
   ]
  },
  {
   "cell_type": "markdown",
   "metadata": {},
   "source": [
    "## Diccionari invers\n",
    "\n",
    "Donar la volta a un diccionari, si no es posible, donar misatge d'error indicant-ho"
   ]
  },
  {
   "cell_type": "code",
   "execution_count": 70,
   "metadata": {},
   "outputs": [
    {
     "data": {
      "text/plain": [
       "'Error: multiple keys for one value'"
      ]
     },
     "execution_count": 70,
     "metadata": {},
     "output_type": "execute_result"
    }
   ],
   "source": [
    "a = {'a':1,'b':2,'c':3}\n",
    "\n",
    "b = {'a':1,'b':2,'c':2}\n",
    "\n",
    "\n",
    "def funcio(s):\n",
    "    key = {}\n",
    "    for x,y in s.items():\n",
    "        \n",
    "        if y in key:\n",
    "        \n",
    "            return \"Error: multiple keys for one value\"\n",
    "        \n",
    "        key[y]=x\n",
    "\n",
    "    return key\n",
    "\n",
    "funcio(b)\n",
    "\n"
   ]
  },
  {
   "cell_type": "code",
   "execution_count": null,
   "metadata": {},
   "outputs": [
    {
     "name": "stdout",
     "output_type": "stream",
     "text": [
      "{1: 'a'}\n",
      "{1: 'a', 2: 'b'}\n",
      "{1: 'a', 2: 'b', 3: 'c'}\n"
     ]
    }
   ],
   "source": [
    "reverse_dictionary = {'a':1,'b':2,'c':3}\n",
    "\n",
    "key = {}\n",
    "\n",
    "for x,y in reverse_dictionary.items():\n",
    "    key[y]=x\n",
    "\n",
    "    print(key)"
   ]
  },
  {
   "cell_type": "markdown",
   "metadata": {},
   "source": [
    "## Nivell 2\n",
    "### Diccionari invers amb duplicats"
   ]
  },
  {
   "cell_type": "code",
   "execution_count": 73,
   "metadata": {},
   "outputs": [
    {
     "data": {
      "text/plain": [
       "{1: 'a', 2: ['b', 'c']}"
      ]
     },
     "execution_count": 73,
     "metadata": {},
     "output_type": "execute_result"
    }
   ],
   "source": [
    "a = {'a':1,'b':2,'c':3}\n",
    "\n",
    "b = {'a':1,'b':2,'c':2}\n",
    "\n",
    "\n",
    "def funcio(s):\n",
    "    Diccionari = {}\n",
    "    for x,y in s.items():\n",
    "        \n",
    "        if y in Diccionari:\n",
    "             \n",
    "            if isinstance(Diccionari[y], list):\n",
    "                Diccionari[y].append(x)\n",
    "\n",
    "             #si tienes lista. append\n",
    "            else:\n",
    "                Diccionari[y]=[Diccionari[y],x]\n",
    "        else:\n",
    "            Diccionari[y]=x\n",
    "    return Diccionari\n",
    "\n",
    "funcio(b)\n",
    "\n"
   ]
  },
  {
   "cell_type": "markdown",
   "metadata": {},
   "source": [
    "### Exercici 2\n",
    "#### Conversio de tipus de dades"
   ]
  },
  {
   "cell_type": "markdown",
   "metadata": {},
   "source": [
    "El client rep una llista de dades i necessita generar dues llistes, la primera on estaran tots els elements que es van poder convertir en flotants i l'altra on estan els elements que no es van poder convertir. Exemple de la llista que rep el client: [ '1.3', 'one' , '1e10' , 'seven', '3-1/2', ('2',1,1.4,'not-a-number'), [1,2,'3','3.4']]"
   ]
  },
  {
   "cell_type": "markdown",
   "metadata": {},
   "source": [
    "try \n",
    "convertit tot a float \n",
    "guarda1\n",
    "si no es pot \n",
    "except \n",
    "guarda2"
   ]
  },
  {
   "cell_type": "code",
   "execution_count": null,
   "metadata": {},
   "outputs": [],
   "source": [
    "llista_client = [ '1.3', 'one' , '1e10' , 'seven', '3-1/2', ('2',1,1.4,'not-a-number'), [1,2,'3','3.4']]\n",
    "def numeros_paraules(llista_client):\n",
    "    \n",
    "    Numeros = []\n",
    "    Altres = []\n",
    "    for x in llista_client:\n",
    "        try:\n",
    "            Numeros.append(float(x))\n",
    "        except:\n",
    "            # print(\"Deixa de funcionar:\", x)\n",
    "            '''Visualitzacio dels passos que es salta i no ejecuta'''\n",
    "            if isinstance(x, list) or isinstance(x, tuple):\n",
    "                for y in x:\n",
    "                    try:\n",
    "                        Numeros.append(float(y))\n",
    "                    except:\n",
    "                        #print(\"Explota dins de llista o tupla:\", y)\n",
    "                        '''Quines son les parts que deixen de funcionar''' \n",
    "                        Altres.append(y)\n",
    "            else:\n",
    "                Altres.append(x)\n",
    "                \n",
    "    print(\"Numeros\",Numeros)\n",
    "    print(\"Altres\",Altres)\n"
   ]
  },
  {
   "cell_type": "code",
   "execution_count": null,
   "metadata": {},
   "outputs": [
    {
     "name": "stdout",
     "output_type": "stream",
     "text": [
      "Numeros [1.3, 10000000000.0, 2.0, 1.0, 1.4, 1.0, 2.0, 3.0, 3.4]\n",
      "Altres ['one', 'seven', '3-1/2', 'not-a-number']\n"
     ]
    }
   ],
   "source": [
    "# Introdueix la variable a separar\n",
    "numeros_paraules(llista_client)"
   ]
  },
  {
   "cell_type": "markdown",
   "metadata": {},
   "source": [
    "## Nivell 3\n",
    "### Comptador i endreçador de paraules d'un text."
   ]
  },
  {
   "cell_type": "markdown",
   "metadata": {},
   "source": [
    "Agrupar totes les parts, amb una unica funcio."
   ]
  },
  {
   "cell_type": "code",
   "execution_count": 85,
   "metadata": {},
   "outputs": [],
   "source": [
    "def endresador():\n",
    "    texto = open(\"tu_me_quieres_blanca.txt\", mode = \"r\",encoding='utf-8')\n",
    "\n",
    "    with open(\"tu_me_quieres_blanca.txt\", mode = \"r\",encoding='utf-8') as ooo:\n",
    "        text =ooo.read()\n",
    "    def abecedari():\n",
    "        return list(\"abcdefghijklmnopqrstuvwxyz\")\n",
    "    lletres = abecedari()\n",
    "    alfabet = {}\n",
    "    for i in lletres:\n",
    "        alfabet[i] = dict()\n",
    "    a = text.lower()\n",
    "    b = a\n",
    "    import string\n",
    "    string.punctuation\n",
    "    for x in a:\n",
    "        if x in string.punctuation:\n",
    "            b = b.replace(x,'')\n",
    "        elif x in '¡':\n",
    "            b = b.replace(x,'')\n",
    "        else:\n",
    "            next\n",
    "    paraules = b.split()\n",
    "    order = sorted(paraules)\n",
    "    for x in order:\n",
    "        if x in alfabet[x[0]]:\n",
    "            alfabet[x[0]][x] +=1\n",
    "        else:\n",
    "            alfabet[x[0]][x] =1\n",
    "    print(alfabet)\n",
    "            "
   ]
  },
  {
   "cell_type": "code",
   "execution_count": 86,
   "metadata": {},
   "outputs": [
    {
     "name": "stdout",
     "output_type": "stream",
     "text": [
      "{'a': {'a': 3, 'agua': 1, 'al': 2, 'alba': 4, 'alcobas': 1, 'alimenta': 1, 'alma': 1, 'amarga': 1, 'azucena': 1}, 'b': {'baco': 1, 'banquete': 1, 'bebe': 1, 'blanca': 3, 'boca': 1, 'bosques': 1, 'buen': 1}, 'c': {'cabañas': 1, 'carnes': 2, 'casta': 3, 'cerrada': 1, 'con': 4, 'conservas': 1, 'copas': 1, 'corola': 1, 'corriste': 1, 'cuando': 2, 'cubierto': 1, 'cuerpo': 1, 'cuáles': 1}, 'd': {'de': 8, 'dejaste': 1, 'del': 1, 'diga': 1, 'dios': 2, 'duerme': 1}, 'e': {'el': 4, 'ellas': 1, 'en': 4, 'engaño': 1, 'enredada': 1, 'entonces': 1, 'escarcha': 1, 'espumas': 1, 'esqueleto': 1, 'estrago': 1}, 'f': {'festejando': 1, 'filtrado': 1, 'frutos': 1}, 'g': {}, 'h': {'habla': 1, 'hacia': 1, 'haya': 1, 'hayas': 1, 'hermana': 1, 'hombre': 1, 'hubiste': 1, 'huye': 1}, 'i': {'intacto': 1}, 'j': {'jardines': 1}, 'k': {}, 'l': {'la': 3, 'labios': 1, 'las': 7, 'lo': 2, 'los': 4, 'luna': 1, 'lévate': 1, 'límpiate': 1}, 'm': {'mano': 1, 'manos': 1, 'margarita': 1, 'me': 10, 'mi': 1, 'mieles': 1, 'milagros': 1, 'mojada': 1, 'montaña': 1, 'morados': 1}, 'n': {'negros': 1, 'ni': 2, 'no': 1, 'nácar': 1, 'nívea': 2}, 'o': {}, 'p': {'perdone': 2, 'perfume': 1, 'por': 2, 'pretendes': 3, 'preténdeme': 3, 'puesto': 1, 'pájaros': 1, 'pámpanos': 1}, 'q': {'que': 6, 'quedó': 1, 'quieres': 6}, 'r': {'rayo': 1, 'raíz': 1, 'renueva': 1, 'rocas': 1, 'rojo': 1}, 's': {'salitre': 1, 'se': 2, 'sea': 1, 'sean': 1, 'sobre': 2, 'sé': 1}, 't': {'te': 3, 'tejidos': 1, 'tenue': 1, 'tierra': 1, 'toca': 1, 'todas': 2, 'todavía': 1, 'tornadas': 1, 'tú': 8}, 'u': {'un': 1, 'una': 1}, 'v': {'vestido': 1, 'vete': 1, 'vive': 1}, 'w': {}, 'x': {}, 'y': {'y': 5}, 'z': {}}\n"
     ]
    }
   ],
   "source": [
    "endresador()"
   ]
  },
  {
   "cell_type": "code",
   "execution_count": 82,
   "metadata": {},
   "outputs": [
    {
     "name": "stdout",
     "output_type": "stream",
     "text": [
      "<class 'str'>\n"
     ]
    }
   ],
   "source": [
    "texto = open(\"tu_me_quieres_blanca.txt\", mode = \"r\",encoding='utf-8')#, encoding= \"cp1252\")\n",
    "\n",
    "with open(\"tu_me_quieres_blanca.txt\", mode = \"r\",encoding='utf-8') as ooo:\n",
    "    text =ooo.read()\n",
    "\n",
    "print(type(text))"
   ]
  },
  {
   "cell_type": "code",
   "execution_count": 51,
   "metadata": {},
   "outputs": [],
   "source": [
    "#print(text)"
   ]
  },
  {
   "cell_type": "code",
   "execution_count": 83,
   "metadata": {},
   "outputs": [
    {
     "name": "stdout",
     "output_type": "stream",
     "text": [
      "Tú me quieres alba,\n",
      "me quieres de espumas,\n",
      "me quieres de nácar.\n",
      "Que sea azucena\n",
      "Sobre todas, casta.\n",
      "De perfume tenue.\n",
      "Corola cerrada .\n",
      "\n",
      "Ni un rayo de luna\n",
      "filtrado me haya.\n",
      "Ni una margarita\n",
      "se diga mi hermana.\n",
      "Tú me quieres nívea,\n",
      "tú me quieres blanca,\n",
      "tú me quieres alba.\n",
      "\n",
      "Tú que hubiste todas\n",
      "las copas a mano,\n",
      "de frutos y mieles\n",
      "los labios morados.\n",
      "Tú que en el banquete\n",
      "cubierto de pámpanos\n",
      "dejaste las carnes\n",
      "festejando a Baco.\n",
      "Tú que en los jardines\n",
      "negros del Engaño\n",
      "vestido de rojo\n",
      "corriste al Estrago.\n",
      "\n",
      "Tú que el esqueleto\n",
      "conservas intacto\n",
      "no sé todavía\n",
      "por cuáles milagros,\n",
      "me pretendes blanca\n",
      "(Dios te lo perdone),\n",
      "me pretendes casta\n",
      "(Dios te lo perdone),\n",
      "¡me pretendes alba!\n",
      "\n",
      "Huye hacia los bosques,\n",
      "vete a la montaña;\n",
      "límpiate la boca;\n",
      "vive en las cabañas;\n",
      "toca con las manos\n",
      "la tierra mojada;\n",
      "alimenta el cuerpo\n",
      "con raíz amarga;\n",
      "bebe de las rocas;\n",
      "duerme sobre escarcha;\n",
      "renueva tejidos\n",
      "con salitre y agua:\n",
      "\n",
      "Habla con los pájaros\n",
      "y lévate al alba.\n",
      "Y cuando las carnes\n",
      "te sean tornadas,\n",
      "y cuando hayas puesto\n",
      "en ellas el alma\n",
      "que por las alcobas\n",
      "se quedó enredada,\n",
      "entonces, buen hombre,\n",
      "preténdeme blanca,\n",
      "preténdeme nívea,\n",
      "preténdeme casta.\n"
     ]
    }
   ],
   "source": [
    "'''print(texto.readable())'''\n",
    "# Retorna si el archiu es llegible o no\n",
    "print(texto.read())\n",
    "# Retorna el text dins de l'archiu"
   ]
  },
  {
   "cell_type": "code",
   "execution_count": 84,
   "metadata": {},
   "outputs": [],
   "source": [
    "def abecedari():\n",
    "    return list(\"abcdefghijklmnopqrstuvwxyz\")"
   ]
  },
  {
   "cell_type": "code",
   "execution_count": 85,
   "metadata": {},
   "outputs": [
    {
     "name": "stdout",
     "output_type": "stream",
     "text": [
      "['a', 'b', 'c', 'd', 'e', 'f', 'g', 'h', 'i', 'j', 'k', 'l', 'm', 'n', 'o', 'p', 'q', 'r', 's', 't', 'u', 'v', 'w', 'x', 'y', 'z']\n"
     ]
    }
   ],
   "source": [
    "lletres = abecedari()\n",
    "print(lletres)"
   ]
  },
  {
   "cell_type": "code",
   "execution_count": 117,
   "metadata": {},
   "outputs": [
    {
     "name": "stdout",
     "output_type": "stream",
     "text": [
      "{'a': {}, 'b': {}, 'c': {}, 'd': {}, 'e': {}, 'f': {}, 'g': {}, 'h': {}, 'i': {}, 'j': {}, 'k': {}, 'l': {}, 'm': {}, 'n': {}, 'o': {}, 'p': {}, 'q': {}, 'r': {}, 's': {}, 't': {}, 'u': {}, 'v': {}, 'w': {}, 'x': {}, 'y': {}, 'z': {}}\n"
     ]
    }
   ],
   "source": [
    "alfabet = {}\n",
    "\n",
    "for i in lletres:\n",
    "    alfabet[i] = dict()\n",
    "\n",
    "print(alfabet)"
   ]
  },
  {
   "cell_type": "markdown",
   "metadata": {},
   "source": [
    "recorrent el text.\n",
    "identifica la primera lletra de la paraula\n",
    "    identificada\n",
    "si existeix sumali 1 al contador\n",
    "si no existeix al diccionari.agregala"
   ]
  },
  {
   "cell_type": "code",
   "execution_count": 87,
   "metadata": {},
   "outputs": [],
   "source": [
    "a = text.lower()"
   ]
  },
  {
   "cell_type": "code",
   "execution_count": null,
   "metadata": {},
   "outputs": [],
   "source": [
    "a=b\n"
   ]
  },
  {
   "cell_type": "code",
   "execution_count": 89,
   "metadata": {},
   "outputs": [
    {
     "data": {
      "text/plain": [
       "'!\"#$%&\\'()*+,-./:;<=>?@[\\\\]^_`{|}~'"
      ]
     },
     "execution_count": 89,
     "metadata": {},
     "output_type": "execute_result"
    }
   ],
   "source": [
    "import string\n",
    "string.punctuation\n",
    "# otilitzar amb text"
   ]
  },
  {
   "cell_type": "code",
   "execution_count": 116,
   "metadata": {},
   "outputs": [
    {
     "name": "stdout",
     "output_type": "stream",
     "text": [
      "tú me quieres alba\n",
      "me quieres de espumas\n",
      "me quieres de nácar\n",
      "que sea azucena\n",
      "sobre todas casta\n",
      "de perfume tenue\n",
      "corola cerrada \n",
      "\n",
      "ni un rayo de luna\n",
      "filtrado me haya\n",
      "ni una margarita\n",
      "se diga mi hermana\n",
      "tú me quieres nívea\n",
      "tú me quieres blanca\n",
      "tú me quieres alba\n",
      "\n",
      "tú que hubiste todas\n",
      "las copas a mano\n",
      "de frutos y mieles\n",
      "los labios morados\n",
      "tú que en el banquete\n",
      "cubierto de pámpanos\n",
      "dejaste las carnes\n",
      "festejando a baco\n",
      "tú que en los jardines\n",
      "negros del engaño\n",
      "vestido de rojo\n",
      "corriste al estrago\n",
      "\n",
      "tú que el esqueleto\n",
      "conservas intacto\n",
      "no sé todavía\n",
      "por cuáles milagros\n",
      "me pretendes blanca\n",
      "dios te lo perdone\n",
      "me pretendes casta\n",
      "dios te lo perdone\n",
      "me pretendes alba\n",
      "\n",
      "huye hacia los bosques\n",
      "vete a la montaña\n",
      "límpiate la boca\n",
      "vive en las cabañas\n",
      "toca con las manos\n",
      "la tierra mojada\n",
      "alimenta el cuerpo\n",
      "con raíz amarga\n",
      "bebe de las rocas\n",
      "duerme sobre escarcha\n",
      "renueva tejidos\n",
      "con salitre y agua\n",
      "\n",
      "habla con los pájaros\n",
      "y lévate al alba\n",
      "y cuando las carnes\n",
      "te sean tornadas\n",
      "y cuando hayas puesto\n",
      "en ellas el alma\n",
      "que por las alcobas\n",
      "se quedó enredada\n",
      "entonces buen hombre\n",
      "preténdeme blanca\n",
      "preténdeme nívea\n",
      "preténdeme casta\n"
     ]
    }
   ],
   "source": [
    "for x in a:\n",
    "    if x in string.punctuation:\n",
    "        b = b.replace(x,'')\n",
    "    elif x in '¡':\n",
    "        b = b.replace(x,'')\n",
    "    else:\n",
    "        next\n",
    "print(b)"
   ]
  },
  {
   "cell_type": "code",
   "execution_count": 106,
   "metadata": {},
   "outputs": [
    {
     "name": "stdout",
     "output_type": "stream",
     "text": [
      "['tú', 'me', 'quieres', 'alba', 'me', 'quieres', 'de', 'espumas', 'me', 'quieres', 'de', 'nácar', 'que', 'sea', 'azucena', 'sobre', 'todas', 'casta', 'de', 'perfume', 'tenue', 'corola', 'cerrada', 'ni', 'un', 'rayo', 'de', 'luna', 'filtrado', 'me', 'haya', 'ni', 'una', 'margarita', 'se', 'diga', 'mi', 'hermana', 'tú', 'me', 'quieres', 'nívea', 'tú', 'me', 'quieres', 'blanca', 'tú', 'me', 'quieres', 'alba', 'tú', 'que', 'hubiste', 'todas', 'las', 'copas', 'a', 'mano', 'de', 'frutos', 'y', 'mieles', 'los', 'labios', 'morados', 'tú', 'que', 'en', 'el', 'banquete', 'cubierto', 'de', 'pámpanos', 'dejaste', 'las', 'carnes', 'festejando', 'a', 'baco', 'tú', 'que', 'en', 'los', 'jardines', 'negros', 'del', 'engaño', 'vestido', 'de', 'rojo', 'corriste', 'al', 'estrago', 'tú', 'que', 'el', 'esqueleto', 'conservas', 'intacto', 'no', 'sé', 'todavía', 'por', 'cuáles', 'milagros', 'me', 'pretendes', 'blanca', 'dios', 'te', 'lo', 'perdone', 'me', 'pretendes', 'casta', 'dios', 'te', 'lo', 'perdone', 'me', 'pretendes', 'alba', 'huye', 'hacia', 'los', 'bosques', 'vete', 'a', 'la', 'montaña', 'límpiate', 'la', 'boca', 'vive', 'en', 'las', 'cabañas', 'toca', 'con', 'las', 'manos', 'la', 'tierra', 'mojada', 'alimenta', 'el', 'cuerpo', 'con', 'raíz', 'amarga', 'bebe', 'de', 'las', 'rocas', 'duerme', 'sobre', 'escarcha', 'renueva', 'tejidos', 'con', 'salitre', 'y', 'agua', 'habla', 'con', 'los', 'pájaros', 'y', 'lévate', 'al', 'alba', 'y', 'cuando', 'las', 'carnes', 'te', 'sean', 'tornadas', 'y', 'cuando', 'hayas', 'puesto', 'en', 'ellas', 'el', 'alma', 'que', 'por', 'las', 'alcobas', 'se', 'quedó', 'enredada', 'entonces', 'buen', 'hombre', 'preténdeme', 'blanca', 'preténdeme', 'nívea', 'preténdeme', 'casta']\n"
     ]
    }
   ],
   "source": [
    "paraules = b.split()\n",
    "#a =paraules.lower()\n",
    "# print(paraules)\n",
    "print(paraules)"
   ]
  },
  {
   "cell_type": "code",
   "execution_count": 115,
   "metadata": {},
   "outputs": [
    {
     "name": "stdout",
     "output_type": "stream",
     "text": [
      "['a', 'a', 'a', 'agua', 'al', 'al', 'alba', 'alba', 'alba', 'alba', 'alcobas', 'alimenta', 'alma', 'amarga', 'azucena', 'baco', 'banquete', 'bebe', 'blanca', 'blanca', 'blanca', 'boca', 'bosques', 'buen', 'cabañas', 'carnes', 'carnes', 'casta', 'casta', 'casta', 'cerrada', 'con', 'con', 'con', 'con', 'conservas', 'copas', 'corola', 'corriste', 'cuando', 'cuando', 'cubierto', 'cuerpo', 'cuáles', 'de', 'de', 'de', 'de', 'de', 'de', 'de', 'de', 'dejaste', 'del', 'diga', 'dios', 'dios', 'duerme', 'el', 'el', 'el', 'el', 'ellas', 'en', 'en', 'en', 'en', 'engaño', 'enredada', 'entonces', 'escarcha', 'espumas', 'esqueleto', 'estrago', 'festejando', 'filtrado', 'frutos', 'habla', 'hacia', 'haya', 'hayas', 'hermana', 'hombre', 'hubiste', 'huye', 'intacto', 'jardines', 'la', 'la', 'la', 'labios', 'las', 'las', 'las', 'las', 'las', 'las', 'las', 'lo', 'lo', 'los', 'los', 'los', 'los', 'luna', 'lévate', 'límpiate', 'mano', 'manos', 'margarita', 'me', 'me', 'me', 'me', 'me', 'me', 'me', 'me', 'me', 'me', 'mi', 'mieles', 'milagros', 'mojada', 'montaña', 'morados', 'negros', 'ni', 'ni', 'no', 'nácar', 'nívea', 'nívea', 'perdone', 'perdone', 'perfume', 'por', 'por', 'pretendes', 'pretendes', 'pretendes', 'preténdeme', 'preténdeme', 'preténdeme', 'puesto', 'pájaros', 'pámpanos', 'que', 'que', 'que', 'que', 'que', 'que', 'quedó', 'quieres', 'quieres', 'quieres', 'quieres', 'quieres', 'quieres', 'rayo', 'raíz', 'renueva', 'rocas', 'rojo', 'salitre', 'se', 'se', 'sea', 'sean', 'sobre', 'sobre', 'sé', 'te', 'te', 'te', 'tejidos', 'tenue', 'tierra', 'toca', 'todas', 'todas', 'todavía', 'tornadas', 'tú', 'tú', 'tú', 'tú', 'tú', 'tú', 'tú', 'tú', 'un', 'una', 'vestido', 'vete', 'vive', 'y', 'y', 'y', 'y', 'y']\n"
     ]
    }
   ],
   "source": [
    "order = sorted(paraules)\n",
    "print(order)"
   ]
  },
  {
   "cell_type": "code",
   "execution_count": 118,
   "metadata": {},
   "outputs": [
    {
     "name": "stdout",
     "output_type": "stream",
     "text": [
      "{'a': {'a': 3, 'agua': 1, 'al': 2, 'alba': 4, 'alcobas': 1, 'alimenta': 1, 'alma': 1, 'amarga': 1, 'azucena': 1}, 'b': {'baco': 1, 'banquete': 1, 'bebe': 1, 'blanca': 3, 'boca': 1, 'bosques': 1, 'buen': 1}, 'c': {'cabañas': 1, 'carnes': 2, 'casta': 3, 'cerrada': 1, 'con': 4, 'conservas': 1, 'copas': 1, 'corola': 1, 'corriste': 1, 'cuando': 2, 'cubierto': 1, 'cuerpo': 1, 'cuáles': 1}, 'd': {'de': 8, 'dejaste': 1, 'del': 1, 'diga': 1, 'dios': 2, 'duerme': 1}, 'e': {'el': 4, 'ellas': 1, 'en': 4, 'engaño': 1, 'enredada': 1, 'entonces': 1, 'escarcha': 1, 'espumas': 1, 'esqueleto': 1, 'estrago': 1}, 'f': {'festejando': 1, 'filtrado': 1, 'frutos': 1}, 'g': {}, 'h': {'habla': 1, 'hacia': 1, 'haya': 1, 'hayas': 1, 'hermana': 1, 'hombre': 1, 'hubiste': 1, 'huye': 1}, 'i': {'intacto': 1}, 'j': {'jardines': 1}, 'k': {}, 'l': {'la': 3, 'labios': 1, 'las': 7, 'lo': 2, 'los': 4, 'luna': 1, 'lévate': 1, 'límpiate': 1}, 'm': {'mano': 1, 'manos': 1, 'margarita': 1, 'me': 10, 'mi': 1, 'mieles': 1, 'milagros': 1, 'mojada': 1, 'montaña': 1, 'morados': 1}, 'n': {'negros': 1, 'ni': 2, 'no': 1, 'nácar': 1, 'nívea': 2}, 'o': {}, 'p': {'perdone': 2, 'perfume': 1, 'por': 2, 'pretendes': 3, 'preténdeme': 3, 'puesto': 1, 'pájaros': 1, 'pámpanos': 1}, 'q': {'que': 6, 'quedó': 1, 'quieres': 6}, 'r': {'rayo': 1, 'raíz': 1, 'renueva': 1, 'rocas': 1, 'rojo': 1}, 's': {'salitre': 1, 'se': 2, 'sea': 1, 'sean': 1, 'sobre': 2, 'sé': 1}, 't': {'te': 3, 'tejidos': 1, 'tenue': 1, 'tierra': 1, 'toca': 1, 'todas': 2, 'todavía': 1, 'tornadas': 1, 'tú': 8}, 'u': {'un': 1, 'una': 1}, 'v': {'vestido': 1, 'vete': 1, 'vive': 1}, 'w': {}, 'x': {}, 'y': {'y': 5}, 'z': {}}\n"
     ]
    }
   ],
   "source": [
    "for x in order:\n",
    "    if x in alfabet[x[0]]:\n",
    "        alfabet[x[0]][x] +=1\n",
    "    else:\n",
    "        alfabet[x[0]][x] =1\n",
    "print(alfabet)"
   ]
  },
  {
   "cell_type": "code",
   "execution_count": null,
   "metadata": {},
   "outputs": [],
   "source": [
    "#Ordenar el diccionari alfaveticament.\n",
    "\n",
    "Diccionari_ordenat = dict(sorted(alfabet.items()))\n",
    "# Probo d'ordenaro despres dintroduiro al diccionari i no em funciona\n",
    "# per aixo decideixo ordena les paraules de la llista i fer el recompte despres"
   ]
  }
 ],
 "metadata": {
  "kernelspec": {
   "display_name": "Python 3",
   "language": "python",
   "name": "python3"
  },
  "language_info": {
   "codemirror_mode": {
    "name": "ipython",
    "version": 3
   },
   "file_extension": ".py",
   "mimetype": "text/x-python",
   "name": "python",
   "nbconvert_exporter": "python",
   "pygments_lexer": "ipython3",
   "version": "3.12.6"
  }
 },
 "nbformat": 4,
 "nbformat_minor": 2
}
